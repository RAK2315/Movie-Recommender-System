{
 "cells": [
  {
   "cell_type": "code",
   "execution_count": 2,
   "metadata": {},
   "outputs": [],
   "source": [
    "import pandas as pd"
   ]
  },
  {
   "cell_type": "code",
   "execution_count": 5,
   "metadata": {},
   "outputs": [],
   "source": [
    "movies=pd.read_csv(\"dataset.csv\")"
   ]
  },
  {
   "cell_type": "code",
   "execution_count": 14,
   "metadata": {},
   "outputs": [],
   "source": [
    "#DATA DESCRIPTION COMMANDS\n",
    "# movies.head(10)   - gives details of first 10 movies\n",
    "# movies.descrive() - give dataset details\n",
    "# movies.info()     - gives concise summary of dataframe"
   ]
  },
  {
   "cell_type": "markdown",
   "metadata": {},
   "source": [
    "### FEATURE SELECTION PART"
   ]
  },
  {
   "cell_type": "code",
   "execution_count": 16,
   "metadata": {},
   "outputs": [
    {
     "data": {
      "text/plain": [
       "Index(['id', 'title', 'genre', 'original_language', 'overview', 'popularity',\n",
       "       'release_date', 'vote_average', 'vote_count'],\n",
       "      dtype='object')"
      ]
     },
     "execution_count": 16,
     "metadata": {},
     "output_type": "execute_result"
    }
   ],
   "source": [
    "movies.columns"
   ]
  },
  {
   "cell_type": "code",
   "execution_count": 27,
   "metadata": {},
   "outputs": [],
   "source": [
    "# Needed details mostly - id, title, genre, overview\n",
    "# (id for getting the right posters)\n",
    "movies = movies[[\"id\",\"title\",\"overview\",\"genre\"]]\n",
    "# Since content based recomendation system, we merge the \"overview\" and \"genre\" part\n",
    "movies[\"tags\"]=movies[\"overview\"]+movies[\"genre\"]"
   ]
  },
  {
   "cell_type": "code",
   "execution_count": 41,
   "metadata": {},
   "outputs": [],
   "source": [
    "new_data = movies.drop(columns=[\"overview\",\"genre\"])\n",
    "#new_data"
   ]
  },
  {
   "cell_type": "markdown",
   "metadata": {},
   "source": [
    "### Actual Data Work"
   ]
  },
  {
   "cell_type": "code",
   "execution_count": 55,
   "metadata": {},
   "outputs": [],
   "source": [
    "# Now to convert the tags into essentially vectorls for ml to work\n",
    "# stop_words are those word in english that have no contribbution to the meaning of the sentence, ex: is, are, the, of etc..\n",
    "# max_features basicaly joins all the tags and then takes the top 5000 most common workds tht arnt stop_words\n",
    "\n",
    "''' The logic is to take those 5000 words and compare them on (10000,10000) vector chart, and to reccomend, we take the top most\n",
    "    closest vectors to the input. Essential we cant create a \"similarity\" score for each tags since they are not numbers \n",
    "    so we do this approach.'''\n",
    "\n",
    "from sklearn.feature_extraction.text import CountVectorizer\n",
    "cv = CountVectorizer(max_features=10000,stop_words=\"english\")"
   ]
  },
  {
   "cell_type": "code",
   "execution_count": 56,
   "metadata": {},
   "outputs": [],
   "source": [
    "vector=cv.fit_transform(new_data[\"tags\"].values.astype(\"U\")).toarray()\n",
    "#vector.shape - gives the shape of the vecotr"
   ]
  },
  {
   "cell_type": "code",
   "execution_count": 97,
   "metadata": {},
   "outputs": [],
   "source": [
    "from sklearn.metrics.pairwise import cosine_similarity\n",
    "\n",
    "similarity = cosine_similarity(vector)"
   ]
  },
  {
   "cell_type": "markdown",
   "metadata": {},
   "source": [
    "Converts a collection of text documents into a matrix of token (word) counts.\n",
    "\n",
    "🧠 In Simple Words:\n",
    "It transforms text into numbers — so ML models can understand and use it.\n",
    "\n",
    "📥 Input:\n",
    "A list of strings (documents):\n",
    "texts = [\"I love movies\", \"I love Python\", \"Movies are fun\"]\n",
    "📤 Output:\n",
    "A matrix like:\n",
    "\n",
    "       are fun i love movies python\n",
    "Doc1\t0\t0\t1\t1\t1\t0\n",
    "Doc2\t0\t0\t1\t1\t0\t1\n",
    "Doc3\t1\t1\t0\t0\t1\t0\n",
    "\n",
    "This is a sparse matrix of word counts."
   ]
  },
  {
   "cell_type": "code",
   "execution_count": 98,
   "metadata": {},
   "outputs": [],
   "source": [
    " #similarity"
   ]
  },
  {
   "cell_type": "code",
   "execution_count": 99,
   "metadata": {},
   "outputs": [
    {
     "name": "stdout",
     "output_type": "stream",
     "text": [
      "The Godfather\n",
      "The Godfather: Part II\n",
      "Blood Ties\n",
      "Joker\n",
      "Bomb City\n",
      "Gotti\n",
      "Felon\n",
      "Rope\n",
      "Batman: The Killing Joke\n",
      "The Big Heat\n"
     ]
    }
   ],
   "source": [
    "# to get title we need index (not id), example\n",
    "# new_data[new_data[\"title\"]==\"The Godfather\"].index[0] - gives output 2\n",
    "# this is an example if we the entered movie is \"the godfather\"\n",
    "distance = sorted(list(enumerate(similarity[2])), reverse=True,key =lambda vector: vector[1])\n",
    "#this will give the index for the closest ones to the entered (ex, heres its the godfather)\n",
    "for i in distance[0:10]:\n",
    "    print(new_data.iloc[i[0]].title)"
   ]
  },
  {
   "cell_type": "code",
   "execution_count": 100,
   "metadata": {},
   "outputs": [],
   "source": [
    "# Now making it into an actual function\n",
    "def recommend(movies):\n",
    "    index = new_data[new_data[\"title\"]==movies].index[0]\n",
    "    distance = sorted(list(enumerate(similarity[index])), reverse=True,key =lambda vector: vector[1])   \n",
    "    for i in distance[0:10]:\n",
    "        print(new_data.iloc[i[0]].title)"
   ]
  },
  {
   "cell_type": "code",
   "execution_count": 101,
   "metadata": {},
   "outputs": [
    {
     "name": "stdout",
     "output_type": "stream",
     "text": [
      "Iron Man\n",
      "Iron Man 3\n",
      "Guardians of the Galaxy Vol. 2\n",
      "Avengers: Age of Ultron\n",
      "Star Wars: Episode III - Revenge of the Sith\n",
      "G.O.R.A.\n",
      "Iron Man 2\n",
      "Charlie's Angels\n",
      "Star Wars: Episode I - The Phantom Menace\n",
      "The Rocketeer\n"
     ]
    }
   ],
   "source": [
    "# Example\n",
    "recommend(\"Iron Man\")"
   ]
  },
  {
   "cell_type": "code",
   "execution_count": 103,
   "metadata": {},
   "outputs": [],
   "source": [
    "# Here the function is done mainly\n",
    "# Now we can export the data in a pickle file\n",
    "import pickle\n",
    "f1=open(\"movies_list.pkl\",\"wb\")\n",
    "f2=open(\"similarity.pkl\",\"wb\")\n",
    "pickle.dump(new_data,f1)\n",
    "pickle.dump(similarity,f2)\n",
    "f1.close()\n",
    "f2.close()"
   ]
  },
  {
   "cell_type": "code",
   "execution_count": null,
   "metadata": {},
   "outputs": [],
   "source": []
  },
  {
   "cell_type": "code",
   "execution_count": null,
   "metadata": {},
   "outputs": [],
   "source": []
  }
 ],
 "metadata": {
  "kernelspec": {
   "display_name": "Python 3",
   "language": "python",
   "name": "python3"
  },
  "language_info": {
   "codemirror_mode": {
    "name": "ipython",
    "version": 3
   },
   "file_extension": ".py",
   "mimetype": "text/x-python",
   "name": "python",
   "nbconvert_exporter": "python",
   "pygments_lexer": "ipython3",
   "version": "3.8.3"
  }
 },
 "nbformat": 4,
 "nbformat_minor": 4
}
